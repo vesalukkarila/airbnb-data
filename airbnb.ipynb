{
 "cells": [
  {
   "cell_type": "markdown",
   "metadata": {},
   "source": [
    "Aspect to investigate on this data science project:    \n",
    "The imagined task from AirBnB team was to investigate wheter host's communicational behaviour\n",
    "reflects superhostness.  \n",
    "AirBnB has been struggling how to define how to separate hosts from superhosts, problem has arisen from the increasing number of superhosts, inflating the very meaning of it.  "
   ]
  },
  {
   "cell_type": "code",
   "execution_count": 800,
   "metadata": {},
   "outputs": [],
   "source": [
    "import pandas as pd\n",
    "import seaborn as sns\n",
    "import matplotlib as plt\n",
    "from sklearn.model_selection import train_test_split\n",
    "from sklearn.preprocessing import StandardScaler\n",
    "from sklearn.neighbors import KNeighborsClassifier\n",
    "from sklearn.linear_model import LogisticRegression\n",
    "from sklearn.ensemble import RandomForestClassifier\n",
    "from sklearn.svm import SVC\n",
    "\n",
    "from sklearn.metrics import accuracy_score, confusion_matrix"
   ]
  },
  {
   "cell_type": "markdown",
   "metadata": {},
   "source": [
    "### Bring data to Pandas dataframe  \n",
    "Inspect the first rows"
   ]
  },
  {
   "cell_type": "code",
   "execution_count": 801,
   "metadata": {},
   "outputs": [
    {
     "data": {
      "text/html": [
       "<div>\n",
       "<style scoped>\n",
       "    .dataframe tbody tr th:only-of-type {\n",
       "        vertical-align: middle;\n",
       "    }\n",
       "\n",
       "    .dataframe tbody tr th {\n",
       "        vertical-align: top;\n",
       "    }\n",
       "\n",
       "    .dataframe thead th {\n",
       "        text-align: right;\n",
       "    }\n",
       "</style>\n",
       "<table border=\"1\" class=\"dataframe\">\n",
       "  <thead>\n",
       "    <tr style=\"text-align: right;\">\n",
       "      <th></th>\n",
       "      <th>id</th>\n",
       "      <th>listing_url</th>\n",
       "      <th>scrape_id</th>\n",
       "      <th>last_scraped</th>\n",
       "      <th>source</th>\n",
       "      <th>name</th>\n",
       "      <th>description</th>\n",
       "      <th>neighborhood_overview</th>\n",
       "      <th>picture_url</th>\n",
       "      <th>host_id</th>\n",
       "      <th>...</th>\n",
       "      <th>review_scores_communication</th>\n",
       "      <th>review_scores_location</th>\n",
       "      <th>review_scores_value</th>\n",
       "      <th>license</th>\n",
       "      <th>instant_bookable</th>\n",
       "      <th>calculated_host_listings_count</th>\n",
       "      <th>calculated_host_listings_count_entire_homes</th>\n",
       "      <th>calculated_host_listings_count_private_rooms</th>\n",
       "      <th>calculated_host_listings_count_shared_rooms</th>\n",
       "      <th>reviews_per_month</th>\n",
       "    </tr>\n",
       "  </thead>\n",
       "  <tbody>\n",
       "    <tr>\n",
       "      <th>0</th>\n",
       "      <td>5456</td>\n",
       "      <td>https://www.airbnb.com/rooms/5456</td>\n",
       "      <td>20250306035151</td>\n",
       "      <td>2025-03-13</td>\n",
       "      <td>city scrape</td>\n",
       "      <td>Walk to 6th, Rainey St and Convention Ctr</td>\n",
       "      <td>Great central  location for walking to Convent...</td>\n",
       "      <td>My neighborhood is ideally located if you want...</td>\n",
       "      <td>https://a0.muscache.com/pictures/14084884/b5a3...</td>\n",
       "      <td>8028</td>\n",
       "      <td>...</td>\n",
       "      <td>4.82</td>\n",
       "      <td>4.73</td>\n",
       "      <td>4.79</td>\n",
       "      <td>NaN</td>\n",
       "      <td>f</td>\n",
       "      <td>1</td>\n",
       "      <td>1</td>\n",
       "      <td>0</td>\n",
       "      <td>0</td>\n",
       "      <td>3.60</td>\n",
       "    </tr>\n",
       "    <tr>\n",
       "      <th>1</th>\n",
       "      <td>5769</td>\n",
       "      <td>https://www.airbnb.com/rooms/5769</td>\n",
       "      <td>20250306035151</td>\n",
       "      <td>2025-03-11</td>\n",
       "      <td>previous scrape</td>\n",
       "      <td>NW Austin Room</td>\n",
       "      <td>NaN</td>\n",
       "      <td>Quiet neighborhood with lots of trees and good...</td>\n",
       "      <td>https://a0.muscache.com/pictures/23822033/ac94...</td>\n",
       "      <td>8186</td>\n",
       "      <td>...</td>\n",
       "      <td>4.94</td>\n",
       "      <td>4.77</td>\n",
       "      <td>4.92</td>\n",
       "      <td>NaN</td>\n",
       "      <td>f</td>\n",
       "      <td>1</td>\n",
       "      <td>0</td>\n",
       "      <td>1</td>\n",
       "      <td>0</td>\n",
       "      <td>1.65</td>\n",
       "    </tr>\n",
       "    <tr>\n",
       "      <th>2</th>\n",
       "      <td>6413</td>\n",
       "      <td>https://www.airbnb.com/rooms/6413</td>\n",
       "      <td>20250306035151</td>\n",
       "      <td>2025-03-13</td>\n",
       "      <td>city scrape</td>\n",
       "      <td>Gem of a Studio near Downtown</td>\n",
       "      <td>Great studio apartment, perfect a single perso...</td>\n",
       "      <td>Travis Heights is one of the oldest neighborho...</td>\n",
       "      <td>https://a0.muscache.com/pictures/hosting/Hosti...</td>\n",
       "      <td>13879</td>\n",
       "      <td>...</td>\n",
       "      <td>4.98</td>\n",
       "      <td>4.87</td>\n",
       "      <td>4.93</td>\n",
       "      <td>NaN</td>\n",
       "      <td>f</td>\n",
       "      <td>1</td>\n",
       "      <td>1</td>\n",
       "      <td>0</td>\n",
       "      <td>0</td>\n",
       "      <td>0.66</td>\n",
       "    </tr>\n",
       "  </tbody>\n",
       "</table>\n",
       "<p>3 rows × 79 columns</p>\n",
       "</div>"
      ],
      "text/plain": [
       "     id                        listing_url       scrape_id last_scraped  \\\n",
       "0  5456  https://www.airbnb.com/rooms/5456  20250306035151   2025-03-13   \n",
       "1  5769  https://www.airbnb.com/rooms/5769  20250306035151   2025-03-11   \n",
       "2  6413  https://www.airbnb.com/rooms/6413  20250306035151   2025-03-13   \n",
       "\n",
       "            source                                       name  \\\n",
       "0      city scrape  Walk to 6th, Rainey St and Convention Ctr   \n",
       "1  previous scrape                             NW Austin Room   \n",
       "2      city scrape              Gem of a Studio near Downtown   \n",
       "\n",
       "                                         description  \\\n",
       "0  Great central  location for walking to Convent...   \n",
       "1                                                NaN   \n",
       "2  Great studio apartment, perfect a single perso...   \n",
       "\n",
       "                               neighborhood_overview  \\\n",
       "0  My neighborhood is ideally located if you want...   \n",
       "1  Quiet neighborhood with lots of trees and good...   \n",
       "2  Travis Heights is one of the oldest neighborho...   \n",
       "\n",
       "                                         picture_url  host_id  ...  \\\n",
       "0  https://a0.muscache.com/pictures/14084884/b5a3...     8028  ...   \n",
       "1  https://a0.muscache.com/pictures/23822033/ac94...     8186  ...   \n",
       "2  https://a0.muscache.com/pictures/hosting/Hosti...    13879  ...   \n",
       "\n",
       "  review_scores_communication review_scores_location review_scores_value  \\\n",
       "0                        4.82                   4.73                4.79   \n",
       "1                        4.94                   4.77                4.92   \n",
       "2                        4.98                   4.87                4.93   \n",
       "\n",
       "  license instant_bookable calculated_host_listings_count  \\\n",
       "0     NaN                f                              1   \n",
       "1     NaN                f                              1   \n",
       "2     NaN                f                              1   \n",
       "\n",
       "  calculated_host_listings_count_entire_homes  \\\n",
       "0                                           1   \n",
       "1                                           0   \n",
       "2                                           1   \n",
       "\n",
       "  calculated_host_listings_count_private_rooms  \\\n",
       "0                                            0   \n",
       "1                                            1   \n",
       "2                                            0   \n",
       "\n",
       "  calculated_host_listings_count_shared_rooms reviews_per_month  \n",
       "0                                           0              3.60  \n",
       "1                                           0              1.65  \n",
       "2                                           0              0.66  \n",
       "\n",
       "[3 rows x 79 columns]"
      ]
     },
     "execution_count": 801,
     "metadata": {},
     "output_type": "execute_result"
    }
   ],
   "source": [
    "path_to_file = 'data/listings.csv'\n",
    "df = pd.read_csv(path_to_file)\n",
    "df.head(3)"
   ]
  },
  {
   "cell_type": "markdown",
   "metadata": {},
   "source": [
    "- Selecting columns to be used in this work  \n"
   ]
  },
  {
   "cell_type": "code",
   "execution_count": 802,
   "metadata": {},
   "outputs": [
    {
     "data": {
      "text/html": [
       "<div>\n",
       "<style scoped>\n",
       "    .dataframe tbody tr th:only-of-type {\n",
       "        vertical-align: middle;\n",
       "    }\n",
       "\n",
       "    .dataframe tbody tr th {\n",
       "        vertical-align: top;\n",
       "    }\n",
       "\n",
       "    .dataframe thead th {\n",
       "        text-align: right;\n",
       "    }\n",
       "</style>\n",
       "<table border=\"1\" class=\"dataframe\">\n",
       "  <thead>\n",
       "    <tr style=\"text-align: right;\">\n",
       "      <th></th>\n",
       "      <th>host_response_time</th>\n",
       "      <th>host_response_rate</th>\n",
       "      <th>review_scores_communication</th>\n",
       "      <th>host_is_superhost</th>\n",
       "    </tr>\n",
       "  </thead>\n",
       "  <tbody>\n",
       "    <tr>\n",
       "      <th>0</th>\n",
       "      <td>within a few hours</td>\n",
       "      <td>100%</td>\n",
       "      <td>4.82</td>\n",
       "      <td>t</td>\n",
       "    </tr>\n",
       "    <tr>\n",
       "      <th>1</th>\n",
       "      <td>NaN</td>\n",
       "      <td>NaN</td>\n",
       "      <td>4.94</td>\n",
       "      <td>f</td>\n",
       "    </tr>\n",
       "    <tr>\n",
       "      <th>2</th>\n",
       "      <td>within a day</td>\n",
       "      <td>100%</td>\n",
       "      <td>4.98</td>\n",
       "      <td>t</td>\n",
       "    </tr>\n",
       "    <tr>\n",
       "      <th>3</th>\n",
       "      <td>within an hour</td>\n",
       "      <td>100%</td>\n",
       "      <td>4.98</td>\n",
       "      <td>t</td>\n",
       "    </tr>\n",
       "    <tr>\n",
       "      <th>4</th>\n",
       "      <td>within a day</td>\n",
       "      <td>90%</td>\n",
       "      <td>4.88</td>\n",
       "      <td>f</td>\n",
       "    </tr>\n",
       "  </tbody>\n",
       "</table>\n",
       "</div>"
      ],
      "text/plain": [
       "   host_response_time host_response_rate  review_scores_communication  \\\n",
       "0  within a few hours               100%                         4.82   \n",
       "1                 NaN                NaN                         4.94   \n",
       "2        within a day               100%                         4.98   \n",
       "3      within an hour               100%                         4.98   \n",
       "4        within a day                90%                         4.88   \n",
       "\n",
       "  host_is_superhost  \n",
       "0                 t  \n",
       "1                 f  \n",
       "2                 t  \n",
       "3                 t  \n",
       "4                 f  "
      ]
     },
     "execution_count": 802,
     "metadata": {},
     "output_type": "execute_result"
    }
   ],
   "source": [
    "cols = ['host_response_time', 'host_response_rate', 'review_scores_communication', 'host_is_superhost']\n",
    "df = df[cols]\n",
    "df.head()"
   ]
  },
  {
   "cell_type": "markdown",
   "metadata": {},
   "source": [
    "Exclude '%' from host_response_rate  \n",
    "true for 't' and false for 'f' in host_is_superhost"
   ]
  },
  {
   "cell_type": "code",
   "execution_count": 803,
   "metadata": {},
   "outputs": [
    {
     "data": {
      "text/html": [
       "<div>\n",
       "<style scoped>\n",
       "    .dataframe tbody tr th:only-of-type {\n",
       "        vertical-align: middle;\n",
       "    }\n",
       "\n",
       "    .dataframe tbody tr th {\n",
       "        vertical-align: top;\n",
       "    }\n",
       "\n",
       "    .dataframe thead th {\n",
       "        text-align: right;\n",
       "    }\n",
       "</style>\n",
       "<table border=\"1\" class=\"dataframe\">\n",
       "  <thead>\n",
       "    <tr style=\"text-align: right;\">\n",
       "      <th></th>\n",
       "      <th>host_response_time</th>\n",
       "      <th>host_response_rate</th>\n",
       "      <th>review_scores_communication</th>\n",
       "      <th>host_is_superhost</th>\n",
       "    </tr>\n",
       "  </thead>\n",
       "  <tbody>\n",
       "    <tr>\n",
       "      <th>0</th>\n",
       "      <td>within a few hours</td>\n",
       "      <td>100</td>\n",
       "      <td>4.82</td>\n",
       "      <td>true</td>\n",
       "    </tr>\n",
       "    <tr>\n",
       "      <th>1</th>\n",
       "      <td>NaN</td>\n",
       "      <td>NaN</td>\n",
       "      <td>4.94</td>\n",
       "      <td>false</td>\n",
       "    </tr>\n",
       "    <tr>\n",
       "      <th>2</th>\n",
       "      <td>within a day</td>\n",
       "      <td>100</td>\n",
       "      <td>4.98</td>\n",
       "      <td>true</td>\n",
       "    </tr>\n",
       "    <tr>\n",
       "      <th>3</th>\n",
       "      <td>within an hour</td>\n",
       "      <td>100</td>\n",
       "      <td>4.98</td>\n",
       "      <td>true</td>\n",
       "    </tr>\n",
       "    <tr>\n",
       "      <th>4</th>\n",
       "      <td>within a day</td>\n",
       "      <td>90</td>\n",
       "      <td>4.88</td>\n",
       "      <td>false</td>\n",
       "    </tr>\n",
       "  </tbody>\n",
       "</table>\n",
       "</div>"
      ],
      "text/plain": [
       "   host_response_time host_response_rate  review_scores_communication  \\\n",
       "0  within a few hours                100                         4.82   \n",
       "1                 NaN                NaN                         4.94   \n",
       "2        within a day                100                         4.98   \n",
       "3      within an hour                100                         4.98   \n",
       "4        within a day                 90                         4.88   \n",
       "\n",
       "  host_is_superhost  \n",
       "0              true  \n",
       "1             false  \n",
       "2              true  \n",
       "3              true  \n",
       "4             false  "
      ]
     },
     "execution_count": 803,
     "metadata": {},
     "output_type": "execute_result"
    }
   ],
   "source": [
    "df['host_response_rate'] = df['host_response_rate'].str[:-1]\n",
    "df['host_is_superhost'] = df['host_is_superhost'].replace({'t': 'true', 'f': 'false'})\n",
    "\n",
    "df.head()"
   ]
  },
  {
   "cell_type": "markdown",
   "metadata": {},
   "source": [
    "Rename columns for convenience"
   ]
  },
  {
   "cell_type": "code",
   "execution_count": 804,
   "metadata": {},
   "outputs": [
    {
     "data": {
      "text/html": [
       "<div>\n",
       "<style scoped>\n",
       "    .dataframe tbody tr th:only-of-type {\n",
       "        vertical-align: middle;\n",
       "    }\n",
       "\n",
       "    .dataframe tbody tr th {\n",
       "        vertical-align: top;\n",
       "    }\n",
       "\n",
       "    .dataframe thead th {\n",
       "        text-align: right;\n",
       "    }\n",
       "</style>\n",
       "<table border=\"1\" class=\"dataframe\">\n",
       "  <thead>\n",
       "    <tr style=\"text-align: right;\">\n",
       "      <th></th>\n",
       "      <th>response_time</th>\n",
       "      <th>response_rate</th>\n",
       "      <th>comms_score</th>\n",
       "      <th>is_superhost</th>\n",
       "    </tr>\n",
       "  </thead>\n",
       "  <tbody>\n",
       "    <tr>\n",
       "      <th>0</th>\n",
       "      <td>within a few hours</td>\n",
       "      <td>100</td>\n",
       "      <td>4.82</td>\n",
       "      <td>true</td>\n",
       "    </tr>\n",
       "    <tr>\n",
       "      <th>1</th>\n",
       "      <td>NaN</td>\n",
       "      <td>NaN</td>\n",
       "      <td>4.94</td>\n",
       "      <td>false</td>\n",
       "    </tr>\n",
       "    <tr>\n",
       "      <th>2</th>\n",
       "      <td>within a day</td>\n",
       "      <td>100</td>\n",
       "      <td>4.98</td>\n",
       "      <td>true</td>\n",
       "    </tr>\n",
       "  </tbody>\n",
       "</table>\n",
       "</div>"
      ],
      "text/plain": [
       "        response_time response_rate  comms_score is_superhost\n",
       "0  within a few hours           100         4.82         true\n",
       "1                 NaN           NaN         4.94        false\n",
       "2        within a day           100         4.98         true"
      ]
     },
     "execution_count": 804,
     "metadata": {},
     "output_type": "execute_result"
    }
   ],
   "source": [
    "\n",
    "df.rename(columns={'host_is_superhost': 'is_superhost', 'host_response_rate': 'response_rate', \n",
    "                   'host_response_time':'response_time', 'review_scores_communication': 'comms_score'}, inplace=True)\n",
    "df.head(3)"
   ]
  },
  {
   "cell_type": "markdown",
   "metadata": {},
   "source": [
    "- NaN values  \n",
    "We see that ~4600 rows are lost when dropping rows with missing values.  \n",
    "Remaining (10816 entries) is still a good size dataset.   \n",
    "Another option would be to fill the missing values by calculating e.g. a mean from entries with values.  \n",
    "Because the number of rows with missing values is third of the dataset I opt for dropping rows with missing values to avoid skewing.  "
   ]
  },
  {
   "cell_type": "code",
   "execution_count": 805,
   "metadata": {},
   "outputs": [
    {
     "name": "stdout",
     "output_type": "stream",
     "text": [
      "(15431, 4)\n",
      "(9143, 4)\n"
     ]
    }
   ],
   "source": [
    "print(df.shape)\n",
    "df.dropna(inplace=True)\n",
    "print(df.shape)"
   ]
  },
  {
   "cell_type": "markdown",
   "metadata": {},
   "source": [
    "### Inspecting data\n",
    "#### Visualizing features  \n",
    "- Response time"
   ]
  },
  {
   "cell_type": "code",
   "execution_count": 806,
   "metadata": {},
   "outputs": [
    {
     "data": {
      "text/plain": [
       "<AxesSubplot:xlabel='response_time', ylabel='count'>"
      ]
     },
     "execution_count": 806,
     "metadata": {},
     "output_type": "execute_result"
    },
    {
     "data": {
      "image/png": "[encoded data removed]",
      "text/plain": [
       "<Figure size 640x480 with 1 Axes>"
      ]
     },
     "metadata": {},
     "output_type": "display_data"
    }
   ],
   "source": [
    "sns.countplot(data=df.sort_values('response_time'), x='response_time', )"
   ]
  },
  {
   "cell_type": "markdown",
   "metadata": {},
   "source": [
    "- Response rate  \n",
    "Changing datatype to int  \n",
    "Temporarily sort by ascending values for visualization"
   ]
  },
  {
   "cell_type": "code",
   "execution_count": 807,
   "metadata": {},
   "outputs": [
    {
     "data": {
      "image/png": "[encoded data removed]",
      "text/plain": [
       "<Figure size 1600x1000 with 1 Axes>"
      ]
     },
     "metadata": {},
     "output_type": "display_data"
    }
   ],
   "source": [
    "df['response_rate'] = df['response_rate'].astype(int)\n",
    "graph = sns.countplot(data=df.sort_values('response_rate'), x= 'response_rate', )\n",
    "graph.figure.set_size_inches(16, 10)\n"
   ]
  },
  {
   "cell_type": "code",
   "execution_count": 808,
   "metadata": {},
   "outputs": [
    {
     "data": {
      "image/png": "[encoded data removed]",
      "text/plain": [
       "<Figure size 2600x1000 with 1 Axes>"
      ]
     },
     "metadata": {},
     "output_type": "display_data"
    }
   ],
   "source": [
    "graph = sns.countplot(data=df, x='comms_score')\n",
    "graph.figure.set_size_inches(26, 10)\n"
   ]
  },
  {
   "cell_type": "markdown",
   "metadata": {},
   "source": [
    "- Superhostness  "
   ]
  },
  {
   "cell_type": "code",
   "execution_count": 809,
   "metadata": {},
   "outputs": [
    {
     "data": {
      "text/plain": [
       "<AxesSubplot:xlabel='is_superhost', ylabel='count'>"
      ]
     },
     "execution_count": 809,
     "metadata": {},
     "output_type": "execute_result"
    },
    {
     "data": {
      "image/png": "[encoded data removed]",
      "text/plain": [
       "<Figure size 640x480 with 1 Axes>"
      ]
     },
     "metadata": {},
     "output_type": "display_data"
    }
   ],
   "source": [
    "sns.countplot(data=df, x ='is_superhost',  )"
   ]
  },
  {
   "cell_type": "markdown",
   "metadata": {},
   "source": [
    "##### Conclusions from visualizations  \n",
    "We can see that the vast majority of hosts:\n",
    "- responses within an hour.  \n",
    "- responses to all all messages.    \n",
    "**but** being superhost is somewhat equally distributed.  \n",
    "\n",
    "Distribution in numbers:"
   ]
  },
  {
   "cell_type": "code",
   "execution_count": 810,
   "metadata": {},
   "outputs": [
    {
     "name": "stdout",
     "output_type": "stream",
     "text": [
      "\u001b[1mResponse time:\u001b[0m \n",
      "within an hour        7603\n",
      "within a few hours    1000\n",
      "within a day           441\n",
      "a few days or more      99\n",
      "Name: response_time, dtype: int64\n",
      "\n",
      "\u001b[1mResponse rate:\u001b[0m \n",
      "100    7910\n",
      "99      299\n",
      "98      159\n",
      "92      112\n",
      "90       87\n",
      "97       86\n",
      "0        85\n",
      "96       77\n",
      "93       40\n",
      "94       38\n",
      "80       32\n",
      "50       27\n",
      "75       20\n",
      "95       20\n",
      "89       19\n",
      "67       18\n",
      "86       13\n",
      "88       13\n",
      "70       13\n",
      "91       12\n",
      "83        9\n",
      "60        8\n",
      "87        7\n",
      "57        7\n",
      "79        5\n",
      "78        5\n",
      "33        4\n",
      "56        3\n",
      "71        2\n",
      "17        2\n",
      "25        2\n",
      "40        2\n",
      "27        2\n",
      "74        1\n",
      "64        1\n",
      "20        1\n",
      "4         1\n",
      "73        1\n",
      "Name: response_rate, dtype: int64\n",
      "\n",
      "\u001b[1mResponse rate:\u001b[0m \n",
      "5.00    4025\n",
      "4.98     402\n",
      "4.97     386\n",
      "4.96     354\n",
      "4.99     332\n",
      "        ... \n",
      "4.27       1\n",
      "3.29       1\n",
      "3.88       1\n",
      "4.34       1\n",
      "3.91       1\n",
      "Name: comms_score, Length: 106, dtype: int64\n",
      "\n",
      "\u001b[1mSuperhostness: \u001b[0m\n",
      "true     5371\n",
      "false    3772\n",
      "Name: is_superhost, dtype: int64\n"
     ]
    }
   ],
   "source": [
    "bold = \"\\033[1m\"\n",
    "reset = \"\\033[0m\"\n",
    "print(f\"{bold}Response time:{reset} \\n{df['response_time'].value_counts()}\\n\")\n",
    "print(f\"{bold}Response rate:{reset} \\n{df['response_rate'].value_counts()}\\n\")\n",
    "print(f\"{bold}Response rate:{reset} \\n{df['comms_score'].value_counts()}\\n\")\n",
    "print(f\"{bold}Superhostness: {reset}\\n{df['is_superhost'].value_counts()}\")"
   ]
  },
  {
   "cell_type": "markdown",
   "metadata": {},
   "source": [
    "Convert response_times to numbers.  "
   ]
  },
  {
   "cell_type": "code",
   "execution_count": 811,
   "metadata": {},
   "outputs": [
    {
     "data": {
      "text/html": [
       "<div>\n",
       "<style scoped>\n",
       "    .dataframe tbody tr th:only-of-type {\n",
       "        vertical-align: middle;\n",
       "    }\n",
       "\n",
       "    .dataframe tbody tr th {\n",
       "        vertical-align: top;\n",
       "    }\n",
       "\n",
       "    .dataframe thead th {\n",
       "        text-align: right;\n",
       "    }\n",
       "</style>\n",
       "<table border=\"1\" class=\"dataframe\">\n",
       "  <thead>\n",
       "    <tr style=\"text-align: right;\">\n",
       "      <th></th>\n",
       "      <th>response_time</th>\n",
       "      <th>response_rate</th>\n",
       "      <th>comms_score</th>\n",
       "      <th>is_superhost</th>\n",
       "    </tr>\n",
       "  </thead>\n",
       "  <tbody>\n",
       "    <tr>\n",
       "      <th>0</th>\n",
       "      <td>3</td>\n",
       "      <td>100</td>\n",
       "      <td>4.82</td>\n",
       "      <td>true</td>\n",
       "    </tr>\n",
       "    <tr>\n",
       "      <th>2</th>\n",
       "      <td>2</td>\n",
       "      <td>100</td>\n",
       "      <td>4.98</td>\n",
       "      <td>true</td>\n",
       "    </tr>\n",
       "    <tr>\n",
       "      <th>3</th>\n",
       "      <td>4</td>\n",
       "      <td>100</td>\n",
       "      <td>4.98</td>\n",
       "      <td>true</td>\n",
       "    </tr>\n",
       "    <tr>\n",
       "      <th>4</th>\n",
       "      <td>2</td>\n",
       "      <td>90</td>\n",
       "      <td>4.88</td>\n",
       "      <td>false</td>\n",
       "    </tr>\n",
       "    <tr>\n",
       "      <th>5</th>\n",
       "      <td>4</td>\n",
       "      <td>100</td>\n",
       "      <td>5.00</td>\n",
       "      <td>true</td>\n",
       "    </tr>\n",
       "  </tbody>\n",
       "</table>\n",
       "</div>"
      ],
      "text/plain": [
       "   response_time  response_rate  comms_score is_superhost\n",
       "0              3            100         4.82         true\n",
       "2              2            100         4.98         true\n",
       "3              4            100         4.98         true\n",
       "4              2             90         4.88        false\n",
       "5              4            100         5.00         true"
      ]
     },
     "execution_count": 811,
     "metadata": {},
     "output_type": "execute_result"
    }
   ],
   "source": [
    "df.replace({'within an hour':4, 'within a few hours': 3, 'within a day': 2, 'a few days or more': 1}, inplace=True)\n",
    "df.head()"
   ]
  },
  {
   "cell_type": "markdown",
   "metadata": {},
   "source": []
  },
  {
   "cell_type": "markdown",
   "metadata": {},
   "source": [
    "- Aggregated table  \n",
    "Grouping the table by superhostness, we see that there are differences in mean values of other columns, though these are not devastating. It might be that communicational behaviour does not reflect whether host is superhost or not.  "
   ]
  },
  {
   "cell_type": "code",
   "execution_count": 812,
   "metadata": {},
   "outputs": [
    {
     "data": {
      "text/html": [
       "<div>\n",
       "<style scoped>\n",
       "    .dataframe tbody tr th:only-of-type {\n",
       "        vertical-align: middle;\n",
       "    }\n",
       "\n",
       "    .dataframe tbody tr th {\n",
       "        vertical-align: top;\n",
       "    }\n",
       "\n",
       "    .dataframe thead th {\n",
       "        text-align: right;\n",
       "    }\n",
       "</style>\n",
       "<table border=\"1\" class=\"dataframe\">\n",
       "  <thead>\n",
       "    <tr style=\"text-align: right;\">\n",
       "      <th></th>\n",
       "      <th>response_time</th>\n",
       "      <th>response_rate</th>\n",
       "      <th>comms_score</th>\n",
       "    </tr>\n",
       "    <tr>\n",
       "      <th>is_superhost</th>\n",
       "      <th></th>\n",
       "      <th></th>\n",
       "      <th></th>\n",
       "    </tr>\n",
       "  </thead>\n",
       "  <tbody>\n",
       "    <tr>\n",
       "      <th>false</th>\n",
       "      <td>3.608431</td>\n",
       "      <td>95.637593</td>\n",
       "      <td>4.818338</td>\n",
       "    </tr>\n",
       "    <tr>\n",
       "      <th>true</th>\n",
       "      <td>3.869298</td>\n",
       "      <td>99.606032</td>\n",
       "      <td>4.939354</td>\n",
       "    </tr>\n",
       "  </tbody>\n",
       "</table>\n",
       "</div>"
      ],
      "text/plain": [
       "              response_time  response_rate  comms_score\n",
       "is_superhost                                           \n",
       "false              3.608431      95.637593     4.818338\n",
       "true               3.869298      99.606032     4.939354"
      ]
     },
     "execution_count": 812,
     "metadata": {},
     "output_type": "execute_result"
    }
   ],
   "source": [
    "grouped = df.groupby(by='is_superhost').mean()\n",
    "grouped"
   ]
  },
  {
   "cell_type": "markdown",
   "metadata": {},
   "source": [
    "### Trying out classifiers  \n",
    "##### KNN"
   ]
  },
  {
   "cell_type": "code",
   "execution_count": 813,
   "metadata": {},
   "outputs": [
    {
     "name": "stdout",
     "output_type": "stream",
     "text": [
      "KNN accuracy: 0.70\n"
     ]
    }
   ],
   "source": [
    "# Feature and target separation\n",
    "X = df[['response_time', 'response_rate', 'comms_score']]\n",
    "y = df['is_superhost']\n",
    "\n",
    "# Train-test split\n",
    "X_train, X_test, y_train, y_test = train_test_split(X, y, test_size=0.2, random_state=42)\n",
    "\n",
    "# Model initiation and training\n",
    "scaler = StandardScaler()\n",
    "X_train = scaler.fit_transform(X_train)\n",
    "X_test = scaler.transform(X_test)\n",
    "knn = KNeighborsClassifier(n_neighbors=10)\n",
    "knn.fit(X_train, y_train)       # training the model\n",
    "\n",
    "# Predict and evaluate\n",
    "y_prediction = knn.predict(X_test)\n",
    "acc = accuracy_score(y_test, y_prediction)\n",
    "\n",
    "print(f\"KNN accuracy: {acc:.2f}\")"
   ]
  },
  {
   "cell_type": "markdown",
   "metadata": {},
   "source": [
    "##### Logistic regression"
   ]
  },
  {
   "cell_type": "code",
   "execution_count": 814,
   "metadata": {},
   "outputs": [
    {
     "name": "stdout",
     "output_type": "stream",
     "text": [
      "Accuracy: 0.67\n"
     ]
    }
   ],
   "source": [
    "# Feature and target separation\n",
    "X = df[['response_time', 'response_rate', 'comms_score']]\n",
    "y = df['is_superhost']\n",
    "\n",
    "# Train-test split\n",
    "X_train, X_test, y_train, y_test = train_test_split(X, y, test_size=0.2,  random_state=42)\n",
    "\n",
    "# Model initiation and training\n",
    "model = LogisticRegression()\n",
    "model.fit(X_train, y_train)\n",
    "\n",
    "# Predict and evaluate\n",
    "y_pred = model.predict(X_test)\n",
    "accuracy = accuracy_score(y_test, y_pred)\n",
    "\n",
    "print(f\"Accuracy: {accuracy:.2f}\")"
   ]
  },
  {
   "cell_type": "markdown",
   "metadata": {},
   "source": [
    "##### Random Forest Classifier"
   ]
  },
  {
   "cell_type": "code",
   "execution_count": 815,
   "metadata": {},
   "outputs": [
    {
     "name": "stdout",
     "output_type": "stream",
     "text": [
      "Random Forest Accuracy: 0.70\n"
     ]
    }
   ],
   "source": [
    "# Feature and target separation\n",
    "X = df[['response_time', 'response_rate', 'comms_score']]\n",
    "y = df['is_superhost']\n",
    "\n",
    "# Train-test split\n",
    "X_train, X_test, y_train, y_test = train_test_split(X, y, test_size=0.2, random_state=42)\n",
    "\n",
    "# Model initiation and training\n",
    "rf_model = RandomForestClassifier(n_estimators=100, random_state=42)\n",
    "rf_model.fit(X_train, y_train)\n",
    "\n",
    "# Predict and evaluate\n",
    "rf_pred = rf_model.predict(X_test)\n",
    "rf_accuracy = accuracy_score(y_test, rf_pred)\n",
    "\n",
    "print(f\"Random Forest Accuracy: {rf_accuracy:.2f}\")"
   ]
  },
  {
   "cell_type": "markdown",
   "metadata": {},
   "source": [
    "##### Support Vector Machine (SVM)"
   ]
  },
  {
   "cell_type": "code",
   "execution_count": 816,
   "metadata": {},
   "outputs": [
    {
     "name": "stdout",
     "output_type": "stream",
     "text": [
      "SVM Accuracy: 0.66\n"
     ]
    }
   ],
   "source": [
    "# Feature and target separation\n",
    "X = df[['response_time', 'response_rate', 'comms_score']]\n",
    "y = df['is_superhost']\n",
    "\n",
    "# Train-test split\n",
    "X_train, X_test, y_train, y_test = train_test_split(X, y, test_size=0.2, random_state=42)\n",
    "\n",
    "# Model initiation and training\n",
    "svm_model = SVC(kernel='linear', random_state=42)\n",
    "svm_model.fit(X_train, y_train)\n",
    "\n",
    "# Predict and evaluate\n",
    "svm_pred = svm_model.predict(X_test)\n",
    "svm_accuracy = accuracy_score(y_test, svm_pred)\n",
    "\n",
    "print(f\"SVM Accuracy: {svm_accuracy:.2f}\")"
   ]
  },
  {
   "cell_type": "markdown",
   "metadata": {},
   "source": [
    "#### Conclusions from classifiers\n",
    "As we suspected looking at the aggregated table earlier, response_time, response_rate and comms_score don't do a very good job predicting wheter host is superhost or not. K-NearestNeighbors and Random Forest Classifier seem to achieve the best results, but even those prediction are just only 70%.  "
   ]
  },
  {
   "cell_type": "code",
   "execution_count": null,
   "metadata": {},
   "outputs": [],
   "source": []
  }
 ],
 "metadata": {
  "kernelspec": {
   "display_name": ".venv",
   "language": "python",
   "name": "python3"
  },
  "language_info": {
   "codemirror_mode": {
    "name": "ipython",
    "version": 3
   },
   "file_extension": ".py",
   "mimetype": "text/x-python",
   "name": "python",
   "nbconvert_exporter": "python",
   "pygments_lexer": "ipython3",
   "version": "3.10.11"
  }
 },
 "nbformat": 4,
 "nbformat_minor": 2
}
